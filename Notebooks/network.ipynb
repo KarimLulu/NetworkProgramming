{
 "cells": [
  {
   "cell_type": "code",
   "execution_count": 7,
   "metadata": {
    "collapsed": true
   },
   "outputs": [],
   "source": [
    "from socket import *\n",
    "import select\n",
    "import sys\n",
    "import os\n",
    "import collections\n",
    "import pickle"
   ]
  },
  {
   "cell_type": "code",
   "execution_count": 21,
   "metadata": {
    "collapsed": false
   },
   "outputs": [
    {
     "data": {
      "text/plain": [
       "b'\\x80\\x03X\\x02\\x00\\x00\\x0045q\\x00h\\x00\\x86q\\x01.'"
      ]
     },
     "execution_count": 21,
     "metadata": {},
     "output_type": "execute_result"
    }
   ],
   "source": [
    "x = ('45','45')\n",
    "pickle.loads(pickle.dumps(x))\n",
    "pickle.dumps(x)"
   ]
  },
  {
   "cell_type": "code",
   "execution_count": 20,
   "metadata": {
    "collapsed": false
   },
   "outputs": [
    {
     "name": "stdout",
     "output_type": "stream",
     "text": [
      "[1, 2, 4, 4, 4]\n",
      "[1, 2, 4, 4]\n"
     ]
    }
   ],
   "source": [
    "a = [1,2,3,4,4,4]\n",
    "a.remove(3)\n",
    "print(a)\n",
    "a.remove(4)\n",
    "print(a)"
   ]
  },
  {
   "cell_type": "code",
   "execution_count": 27,
   "metadata": {
    "collapsed": false
   },
   "outputs": [
    {
     "ename": "SyntaxError",
     "evalue": "invalid syntax (<ipython-input-27-015336b07919>, line 2)",
     "output_type": "error",
     "traceback": [
      "\u001b[0;36m  File \u001b[0;32m\"<ipython-input-27-015336b07919>\"\u001b[0;36m, line \u001b[0;32m2\u001b[0m\n\u001b[0;31m    x,y = **d\u001b[0m\n\u001b[0m           ^\u001b[0m\n\u001b[0;31mSyntaxError\u001b[0m\u001b[0;31m:\u001b[0m invalid syntax\n"
     ]
    }
   ],
   "source": [
    "d = {'a':1, 'b':2}\n",
    "x,y = **d\n",
    "x,y"
   ]
  },
  {
   "cell_type": "code",
   "execution_count": 77,
   "metadata": {
    "collapsed": false
   },
   "outputs": [],
   "source": [
    "# fresh dict\n",
    "path = '../Chat/contacts.pickle'\n",
    "with open(path, 'wb') as f:\n",
    "    pickle.dump({}, f)"
   ]
  },
  {
   "cell_type": "code",
   "execution_count": 93,
   "metadata": {
    "collapsed": false
   },
   "outputs": [
    {
     "name": "stdout",
     "output_type": "stream",
     "text": [
      "{('127.0.0.1', 60218): 'karim', ('127.0.0.1', 60220): 'artur', ('127.0.0.1', 60244): 'karim', ('127.0.0.1', 60246): 'artur', ('127.0.0.1', 60258): 'nick', ('127.0.0.1', 60260): 'nait'}\n"
     ]
    }
   ],
   "source": [
    "s = open(path, 'rb').read()\n",
    "print(pickle.loads(s))\n",
    "#print(s)"
   ]
  },
  {
   "cell_type": "code",
   "execution_count": null,
   "metadata": {
    "collapsed": true
   },
   "outputs": [],
   "source": [
    "with open(path, 'rb+') as f:\n",
    "    d = pickle.load(f)\n",
    "    d[2] = 4\n",
    "    f.seek(0)\n",
    "    pickle.dump(d, f)\n",
    "    f.truncate()"
   ]
  }
 ],
 "metadata": {
  "kernelspec": {
   "display_name": "Python 3",
   "language": "python",
   "name": "python3"
  },
  "language_info": {
   "codemirror_mode": {
    "name": "ipython",
    "version": 3
   },
   "file_extension": ".py",
   "mimetype": "text/x-python",
   "name": "python",
   "nbconvert_exporter": "python",
   "pygments_lexer": "ipython3",
   "version": "3.6.0"
  }
 },
 "nbformat": 4,
 "nbformat_minor": 2
}
