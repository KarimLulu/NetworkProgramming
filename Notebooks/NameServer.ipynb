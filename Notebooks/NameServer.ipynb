{
 "cells": [
  {
   "cell_type": "code",
   "execution_count": 273,
   "metadata": {
    "collapsed": true
   },
   "outputs": [],
   "source": [
    "import sqlite3\n",
    "from socket import *\n",
    "import sys\n",
    "import ssl\n",
    "import pickle\n",
    "from sqlalchemy import Column, Integer, String, UniqueConstraint, create_engine, exc, orm, MetaData, inspect\n",
    "from sqlalchemy.schema import Sequence\n",
    "from sqlalchemy.ext.declarative import declarative_base\n",
    "from contextlib import contextmanager"
   ]
  },
  {
   "cell_type": "code",
   "execution_count": 310,
   "metadata": {
    "collapsed": false
   },
   "outputs": [],
   "source": [
    "DBNAME = 'name_server'\n",
    "folder = '/home/karimlulu/repos/NetworkProgramming/Name server'\n",
    "DSN = 'sqlite:///{path}.db'.format(path=os.path.join(folder, DBNAME))\n",
    "\n",
    "Base = declarative_base()\n",
    "\n",
    "class Service(Base):\n",
    "    __tablename__ = 'services'\n",
    "    id = Column('id', Integer, primary_key=True)\n",
    "    host = Column('host', String)\n",
    "    port = Column('port', Integer)\n",
    "    name = Column('name', String)\n",
    "    description = Column('description', String)\n",
    "    __table_args__ = (UniqueConstraint('host', 'port', name='address_cnt'),)\n",
    "    \n",
    "    def __repr__(self):\n",
    "        return \"<Service(name='{name}', address='{addr}', description='{desc}')>\".format(name=self.name, \n",
    "                                                                                         addr=self.address,\n",
    "                                                                                         desc=self.description) \n",
    "    def __str__(self):\n",
    "        return repr(self)\n",
    "    \n",
    "    \n",
    "    @property\n",
    "    def address(self):\n",
    "        return '{host}:{port}'.format(host=self.host, port=self.port)\n",
    "\n",
    "    \n",
    "class DatabaseAdapter(object):\n",
    "\n",
    "    def __init__(self, dsn):\n",
    "        try:\n",
    "            eng = create_engine(dsn)\n",
    "        except Exception as err:\n",
    "            raise\n",
    "        self.Session = orm.sessionmaker(bind=eng)\n",
    "        self.services = Service.__table__\n",
    "        self.eng = self.metadata.bind = eng\n",
    "        self.metadata.create_all(checkfirst=True)\n",
    "\n",
    "        \n",
    "    @contextmanager\n",
    "    def session_scope(self):\n",
    "        session = self.Session()\n",
    "        try:\n",
    "            yield session\n",
    "            session.commit()\n",
    "        except Exception as error:\n",
    "            session.rollback()\n",
    "            raise\n",
    "        finally:\n",
    "            session.close()\n",
    "  \n",
    "\n",
    "    def upsert(self, obj):\n",
    "        with self.session_scope() as ses:\n",
    "            query = ses.query(Service).filter(Service.host==obj.host, Service.port==obj.port)\n",
    "            if query.count():\n",
    "                query.update({Service.name: obj.name, \n",
    "                              Service.description: obj.description or Service.description\n",
    "                             })\n",
    "            else:\n",
    "                ses.add(obj)\n",
    "\n",
    "                \n",
    "    def get_service_by_name(self, name):\n",
    "        with self.session_scope() as ses:\n",
    "            query = ses.query(Service).filter(Service.name==name)\n",
    "            total = query.count()\n",
    "            if total > 1:\n",
    "                msg = 'There are several services with the name `{name}`:\\n'.format(name=name)\n",
    "                for i,service in enumerate(query):\n",
    "                    msg += '{idx}. {service}\\n'.format(idx=i+1, service=service)\n",
    "            elif total == 1:\n",
    "                msg = 'Address of the requested service is {addr}'.format(addr=query.one().address)\n",
    "            else:\n",
    "                msg = 'Sorry, there is no service with the name `{name}`'.format(name=name)\n",
    "            return msg \n",
    "  \n",
    "\n",
    "    def __getattr__(self, attr):\n",
    "        return getattr(self.services, attr)"
   ]
  },
  {
   "cell_type": "code",
   "execution_count": 311,
   "metadata": {
    "collapsed": false
   },
   "outputs": [],
   "source": [
    "db = DatabaseAdapter(DSN)"
   ]
  },
  {
   "cell_type": "code",
   "execution_count": 312,
   "metadata": {
    "collapsed": false
   },
   "outputs": [
    {
     "data": {
      "text/plain": [
       "(140432378895104, 140432378895104)"
      ]
     },
     "execution_count": 312,
     "metadata": {},
     "output_type": "execute_result"
    }
   ],
   "source": [
    "id(db.metadata), id(Base.metadata)"
   ]
  },
  {
   "cell_type": "code",
   "execution_count": 322,
   "metadata": {
    "collapsed": false
   },
   "outputs": [],
   "source": [
    "s = Service(host='127.0.0.1', port=80, name='a', description='create the space')\n",
    "db.upsert(s)"
   ]
  },
  {
   "cell_type": "code",
   "execution_count": 320,
   "metadata": {
    "collapsed": false
   },
   "outputs": [],
   "source": [
    "s1 = Service(host='127.0.0.1', port=800, name='ab')\n",
    "db.upsert(s1)"
   ]
  },
  {
   "cell_type": "code",
   "execution_count": 325,
   "metadata": {
    "collapsed": true
   },
   "outputs": [],
   "source": [
    "s2 = Service(host='127.0.0.1', port=800, name='a', description = 'Booms')\n",
    "db.upsert(s2)"
   ]
  },
  {
   "cell_type": "code",
   "execution_count": 316,
   "metadata": {
    "collapsed": false
   },
   "outputs": [
    {
     "data": {
      "text/plain": [
       "[<Service(name='a', address='127.0.0.1:80', description='create the space')>,\n",
       " <Service(name='a', address='127.0.0.1:800', description='Booms')>]"
      ]
     },
     "execution_count": 316,
     "metadata": {},
     "output_type": "execute_result"
    }
   ],
   "source": [
    "q = db.Session().query(Service).filter(Service.host=='127.0.0.1')\n",
    "list(q)"
   ]
  },
  {
   "cell_type": "code",
   "execution_count": 326,
   "metadata": {
    "collapsed": false
   },
   "outputs": [
    {
     "name": "stdout",
     "output_type": "stream",
     "text": [
      "There are several services with the name `a`:\n",
      "1. <Service(name='a', address='127.0.0.1:800', description='Booms')>\n",
      "2. <Service(name='a', address='127.0.0.1:80', description='create the space')>\n",
      "\n"
     ]
    }
   ],
   "source": [
    "m=db.get_service_by_name('a')\n",
    "print(m)"
   ]
  },
  {
   "cell_type": "code",
   "execution_count": 309,
   "metadata": {
    "collapsed": false
   },
   "outputs": [
    {
     "name": "stdout",
     "output_type": "stream",
     "text": [
      "(1, '127.0.0.1', 80, 'a', 'create the space')\n",
      "(2, '127.0.0.1', 800, 'a', 'Booms')\n"
     ]
    }
   ],
   "source": [
    "res  = db.eng.execute('SELECT* FROM services')\n",
    "for _r in res:\n",
    "    print(_r)"
   ]
  },
  {
   "cell_type": "code",
   "execution_count": 317,
   "metadata": {
    "collapsed": false
   },
   "outputs": [
    {
     "data": {
      "text/plain": [
       "immutabledict({'services': Table('services', MetaData(bind=None), Column('id', INTEGER(), table=<services>, primary_key=True, nullable=False), Column('host', VARCHAR(), table=<services>), Column('port', INTEGER(), table=<services>), Column('name', VARCHAR(), table=<services>), Column('description', VARCHAR(), table=<services>), schema=None)})"
      ]
     },
     "execution_count": 317,
     "metadata": {},
     "output_type": "execute_result"
    }
   ],
   "source": [
    "metadata = MetaData()\n",
    "metadata.reflect(bind=db.eng)\n",
    "metadata.tables"
   ]
  },
  {
   "cell_type": "code",
   "execution_count": 276,
   "metadata": {
    "collapsed": false
   },
   "outputs": [
    {
     "data": {
      "text/plain": [
       "['services']"
      ]
     },
     "execution_count": 276,
     "metadata": {},
     "output_type": "execute_result"
    }
   ],
   "source": [
    "i = inspect(db.eng)\n",
    "i.get_table_names()"
   ]
  },
  {
   "cell_type": "code",
   "execution_count": 367,
   "metadata": {
    "collapsed": true
   },
   "outputs": [],
   "source": [
    "import argparse\n",
    "import shlex"
   ]
  },
  {
   "cell_type": "code",
   "execution_count": 379,
   "metadata": {
    "collapsed": false
   },
   "outputs": [
    {
     "data": {
      "text/plain": [
       "_StoreAction(option_strings=['--name'], dest='name', nargs=None, const=None, default=None, type=None, choices=None, help=None, metavar=None)"
      ]
     },
     "execution_count": 379,
     "metadata": {},
     "output_type": "execute_result"
    },
    {
     "data": {
      "text/plain": [
       "_StoreAction(option_strings=['--desc'], dest='desc', nargs=None, const=None, default=None, type=None, choices=None, help=None, metavar=None)"
      ]
     },
     "execution_count": 379,
     "metadata": {},
     "output_type": "execute_result"
    }
   ],
   "source": [
    "parser = argparse.ArgumentParser(description='Argparse Test script')\n",
    "comm = '--name frt'\n",
    "parser.add_argument('--name')\n",
    "parser.add_argument('--desc')\n",
    "namespace = parser.parse_args(shlex.split(comm))"
   ]
  },
  {
   "cell_type": "code",
   "execution_count": 381,
   "metadata": {
    "collapsed": false
   },
   "outputs": [
    {
     "data": {
      "text/plain": [
       "{'desc': None, 'name': 'frt'}"
      ]
     },
     "execution_count": 381,
     "metadata": {},
     "output_type": "execute_result"
    }
   ],
   "source": [
    "namespace.__dict__"
   ]
  }
 ],
 "metadata": {
  "kernelspec": {
   "display_name": "Python 3",
   "language": "python",
   "name": "python3"
  },
  "language_info": {
   "codemirror_mode": {
    "name": "ipython",
    "version": 3
   },
   "file_extension": ".py",
   "mimetype": "text/x-python",
   "name": "python",
   "nbconvert_exporter": "python",
   "pygments_lexer": "ipython3",
   "version": "3.6.0"
  }
 },
 "nbformat": 4,
 "nbformat_minor": 2
}
