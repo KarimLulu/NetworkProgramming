{
 "cells": [
  {
   "cell_type": "code",
   "execution_count": 57,
   "metadata": {
    "collapsed": true
   },
   "outputs": [],
   "source": [
    "import sqlite3\n",
    "from socket import *\n",
    "import sys\n",
    "import ssl\n",
    "import pickle\n",
    "from sqlalchemy import Column, Integer, String, UniqueConstraint, create_engine, exc, orm\n",
    "from sqlalchemy.schema import Sequence\n",
    "from sqlalchemy.ext.declarative import declarative_base\n",
    "from contextlib import contextmanager"
   ]
  },
  {
   "cell_type": "code",
   "execution_count": 203,
   "metadata": {
    "collapsed": false
   },
   "outputs": [],
   "source": [
    "DBNAME = 'name_server'\n",
    "folder = '/home/karimlulu/repos/NetworkProgramming/Name server'\n",
    "DSN = 'sqlite:///{path}.db'.format(path=os.path.join(folder, DBNAME))\n",
    "\n",
    "Base = declarative_base()\n",
    "\n",
    "class Service(Base):\n",
    "    __tablename__ = 'services'\n",
    "    id = Column('id', Integer, primary_key=True)\n",
    "    host = Column('host', String)\n",
    "    port = Column('port', Integer)\n",
    "    name = Column('name', String)\n",
    "    description = Column('description', String)\n",
    "    __table_args__ = (UniqueConstraint('host', 'port', name='address_cnt'),)\n",
    "    \n",
    "    def __repr__(self):\n",
    "        return \"<Service(name='{name}', address='{addr}', description='{desc}')>\".format(name=self.name, \n",
    "                                                                                         addr=self.address,\n",
    "                                                                                         desc=self.description) \n",
    "    def __str__(self):\n",
    "        return repr(self)\n",
    "    \n",
    "    \n",
    "    @property\n",
    "    def address(self):\n",
    "        return '{host}:{port}'.format(host=self.host, port=self.port)\n",
    "\n",
    "    \n",
    "class DatabaseAdapter(object):\n",
    "\n",
    "    def __init__(self, dsn):\n",
    "        try:\n",
    "            eng = create_engine(dsn)\n",
    "        except Exception as err:\n",
    "            raise\n",
    "\n",
    "        try:\n",
    "            eng.connect()\n",
    "        except:\n",
    "            raise\n",
    "        self.Session = orm.sessionmaker(bind=eng)\n",
    "        self.services = Service.__table__\n",
    "        self.eng = self.services.metadata.bind = eng\n",
    " \n",
    "\n",
    "    @contextmanager\n",
    "    def session_scope(self):\n",
    "        session = self.Session()\n",
    "        try:\n",
    "            yield session\n",
    "            session.commit()\n",
    "        except Exception as error:\n",
    "            session.rollback()\n",
    "            raise\n",
    "        finally:\n",
    "            session.close()\n",
    "    \n",
    "    def upsert(self, obj):\n",
    "        with self.session_scope() as ses:\n",
    "            query = ses.query(Service).filter(Service.host==obj.host, Service.port==obj.port)\n",
    "            if query.count():\n",
    "                query.update({Service.name: obj.name, \n",
    "                              Service.description: obj.description or Service.description\n",
    "                             })\n",
    "            else:\n",
    "                ses.add(obj)\n",
    "\n",
    "                \n",
    "    def get_service_by_name(self, name):\n",
    "        with self.session_scope() as ses:\n",
    "            query = ses.query(Service).filter(Service.name==name)\n",
    "            total = query.count()\n",
    "            if total > 1:\n",
    "                msg = 'There are several services with the name `{name}`:\\n'.format(name=name)\n",
    "                for i,service in enumerate(query):\n",
    "                    msg += '{idx}. {service}\\n'.format(idx=i+1, service=service)\n",
    "            elif total == 1:\n",
    "                msg = 'Address of the requested service is {addr}'.format(addr=query.one().address)\n",
    "            else:\n",
    "                msg = 'Sorry, there is no service with the name `{name}`'.format(name=name)\n",
    "            return msg "
   ]
  },
  {
   "cell_type": "code",
   "execution_count": 204,
   "metadata": {
    "collapsed": false
   },
   "outputs": [],
   "source": [
    "db = DatabaseAdapter(DSN)"
   ]
  },
  {
   "cell_type": "code",
   "execution_count": 205,
   "metadata": {
    "collapsed": false
   },
   "outputs": [],
   "source": [
    "Base.metadata.create_all()"
   ]
  },
  {
   "cell_type": "code",
   "execution_count": 206,
   "metadata": {
    "collapsed": false
   },
   "outputs": [],
   "source": [
    "s = Service(host='127.0.0.1', port=80, name='a', description='create the space')\n",
    "db.upsert(s)"
   ]
  },
  {
   "cell_type": "code",
   "execution_count": 211,
   "metadata": {
    "collapsed": false
   },
   "outputs": [],
   "source": [
    "s1 = Service(host='127.0.0.1', port=800, name='ab')\n",
    "db.upsert(s1)"
   ]
  },
  {
   "cell_type": "code",
   "execution_count": 213,
   "metadata": {
    "collapsed": true
   },
   "outputs": [],
   "source": [
    "s2 = Service(host='127.0.0.1', port=800, name='a', description = 'Booms')\n",
    "db.upsert(s2)"
   ]
  },
  {
   "cell_type": "code",
   "execution_count": 214,
   "metadata": {
    "collapsed": false
   },
   "outputs": [
    {
     "data": {
      "text/plain": [
       "[<Service(name='a', address='127.0.0.1:80', description='create the space')>,\n",
       " <Service(name='a', address='127.0.0.1:800', description='Booms')>]"
      ]
     },
     "execution_count": 214,
     "metadata": {},
     "output_type": "execute_result"
    }
   ],
   "source": [
    "q = db.Session().query(Service).filter(Service.host=='127.0.0.1')\n",
    "list(q)"
   ]
  },
  {
   "cell_type": "code",
   "execution_count": 217,
   "metadata": {
    "collapsed": false
   },
   "outputs": [
    {
     "name": "stdout",
     "output_type": "stream",
     "text": [
      "There are several services with the name `a`:\n",
      "1. <Service(name='a', address='127.0.0.1:80', description='create the space')>\n",
      "2. <Service(name='a', address='127.0.0.1:800', description='Booms')>\n",
      "\n"
     ]
    }
   ],
   "source": [
    "m=db.get_service_by_name('a')\n",
    "print(m)"
   ]
  },
  {
   "cell_type": "code",
   "execution_count": 125,
   "metadata": {
    "collapsed": false
   },
   "outputs": [
    {
     "data": {
      "text/plain": [
       "<sqlite3.Cursor at 0x7fb8f656ff10>"
      ]
     },
     "execution_count": 125,
     "metadata": {},
     "output_type": "execute_result"
    },
    {
     "name": "stdout",
     "output_type": "stream",
     "text": [
      "[(1, '127.0.0.1', 80, 'a')]\n"
     ]
    }
   ],
   "source": [
    "conn = sqlite3.connect(os.path.join(folder, DBNAME)+'.db')\n",
    "cur = conn.cursor()\n",
    "cur.execute('SELECT* FROM services')\n",
    "print(cur.fetchall())\n",
    "conn.commit()"
   ]
  }
 ],
 "metadata": {
  "kernelspec": {
   "display_name": "Python 3",
   "language": "python",
   "name": "python3"
  },
  "language_info": {
   "codemirror_mode": {
    "name": "ipython",
    "version": 3
   },
   "file_extension": ".py",
   "mimetype": "text/x-python",
   "name": "python",
   "nbconvert_exporter": "python",
   "pygments_lexer": "ipython3",
   "version": "3.6.0"
  }
 },
 "nbformat": 4,
 "nbformat_minor": 2
}
